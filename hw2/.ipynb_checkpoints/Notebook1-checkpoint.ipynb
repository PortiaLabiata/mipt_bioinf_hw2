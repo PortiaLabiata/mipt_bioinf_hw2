{
 "cells": [
  {
   "cell_type": "code",
   "execution_count": 1,
   "id": "1449a05a-d4e7-4f60-b3ff-16d3d7bec543",
   "metadata": {},
   "outputs": [
    {
     "name": "stderr",
     "output_type": "stream",
     "text": [
      "Matplotlib is building the font cache; this may take a moment.\n"
     ]
    }
   ],
   "source": [
    "import numpy as np\n",
    "import pandas as pd\n",
    "import matplotlib.pyplot as plt"
   ]
  },
  {
   "cell_type": "markdown",
   "id": "ad2b80ad-421b-4528-a8c0-4afdad40db70",
   "metadata": {},
   "source": [
    "## 1. Работа с таблицей"
   ]
  },
  {
   "cell_type": "markdown",
   "id": "76eb3fcd-6a19-48f7-8c64-44fc64133615",
   "metadata": {},
   "source": [
    "### 1.2 Чтение таблицы"
   ]
  },
  {
   "cell_type": "code",
   "execution_count": 8,
   "id": "e5e6b560-07eb-4205-8d67-86a3abbcbdac",
   "metadata": {},
   "outputs": [],
   "source": [
    "table1 = pd.read_csv('./TRB_10_7/TRB_10_7.tsv', sep='\\t', header=None)"
   ]
  },
  {
   "cell_type": "code",
   "execution_count": 9,
   "id": "72ce4525-3634-43d0-8f65-58c177f315eb",
   "metadata": {},
   "outputs": [
    {
     "data": {
      "text/html": [
       "<div>\n",
       "<style scoped>\n",
       "    .dataframe tbody tr th:only-of-type {\n",
       "        vertical-align: middle;\n",
       "    }\n",
       "\n",
       "    .dataframe tbody tr th {\n",
       "        vertical-align: top;\n",
       "    }\n",
       "\n",
       "    .dataframe thead th {\n",
       "        text-align: right;\n",
       "    }\n",
       "</style>\n",
       "<table border=\"1\" class=\"dataframe\">\n",
       "  <thead>\n",
       "    <tr style=\"text-align: right;\">\n",
       "      <th></th>\n",
       "      <th>0</th>\n",
       "      <th>1</th>\n",
       "      <th>2</th>\n",
       "      <th>3</th>\n",
       "    </tr>\n",
       "  </thead>\n",
       "  <tbody>\n",
       "    <tr>\n",
       "      <th>0</th>\n",
       "      <td>TGTGCCAGCAGCGGTAGGGGGACACTATTGGGCACCTTC</td>\n",
       "      <td>CASSGRGTLLGTF</td>\n",
       "      <td>TRBV7-9</td>\n",
       "      <td>TRBJ1-2</td>\n",
       "    </tr>\n",
       "    <tr>\n",
       "      <th>1</th>\n",
       "      <td>TGTGGACGGAAGGACGAGCAGTACTTC</td>\n",
       "      <td>CGRKDEQYF</td>\n",
       "      <td>TRBV20-1</td>\n",
       "      <td>TRBJ2-7</td>\n",
       "    </tr>\n",
       "    <tr>\n",
       "      <th>2</th>\n",
       "      <td>TGCAGTGCTCGGGGCGTCTTCTCTGAAGCTTTCTTT</td>\n",
       "      <td>CSARGVFSEAFF</td>\n",
       "      <td>TRBV20-1</td>\n",
       "      <td>TRBJ1-1</td>\n",
       "    </tr>\n",
       "    <tr>\n",
       "      <th>3</th>\n",
       "      <td>TGTGCCACCAATGACAGGGGGCGCACCTACAATGAGCAGTTCTTC</td>\n",
       "      <td>CATNDRGRTYNEQFF</td>\n",
       "      <td>TRBV24-1</td>\n",
       "      <td>TRBJ2-1</td>\n",
       "    </tr>\n",
       "    <tr>\n",
       "      <th>4</th>\n",
       "      <td>TGTGCCAGCAGTTTAGCTGGACTAGCGGGTTGTCGGAAGTTGACGG...</td>\n",
       "      <td>CASSLAGLAGCRKLTEETQYF</td>\n",
       "      <td>TRBV27</td>\n",
       "      <td>TRBJ2-5</td>\n",
       "    </tr>\n",
       "  </tbody>\n",
       "</table>\n",
       "</div>"
      ],
      "text/plain": [
       "                                                   0                      1  \\\n",
       "0            TGTGCCAGCAGCGGTAGGGGGACACTATTGGGCACCTTC          CASSGRGTLLGTF   \n",
       "1                        TGTGGACGGAAGGACGAGCAGTACTTC              CGRKDEQYF   \n",
       "2               TGCAGTGCTCGGGGCGTCTTCTCTGAAGCTTTCTTT           CSARGVFSEAFF   \n",
       "3      TGTGCCACCAATGACAGGGGGCGCACCTACAATGAGCAGTTCTTC        CATNDRGRTYNEQFF   \n",
       "4  TGTGCCAGCAGTTTAGCTGGACTAGCGGGTTGTCGGAAGTTGACGG...  CASSLAGLAGCRKLTEETQYF   \n",
       "\n",
       "          2        3  \n",
       "0   TRBV7-9  TRBJ1-2  \n",
       "1  TRBV20-1  TRBJ2-7  \n",
       "2  TRBV20-1  TRBJ1-1  \n",
       "3  TRBV24-1  TRBJ2-1  \n",
       "4    TRBV27  TRBJ2-5  "
      ]
     },
     "execution_count": 9,
     "metadata": {},
     "output_type": "execute_result"
    }
   ],
   "source": [
    "table1.head()"
   ]
  },
  {
   "cell_type": "markdown",
   "id": "7f88a896-7a27-4d89-b9af-2dbf5ea5cc98",
   "metadata": {},
   "source": [
    "### 1.2 Построение графика"
   ]
  },
  {
   "cell_type": "code",
   "execution_count": 16,
   "id": "fbc837e0-7434-4d19-b20a-f866ead2c50c",
   "metadata": {},
   "outputs": [
    {
     "data": {
      "image/png": "[encoded data removed]",
      "text/plain": [
       "<Figure size 640x480 with 1 Axes>"
      ]
     },
     "metadata": {},
     "output_type": "display_data"
    }
   ],
   "source": [
    "plt.hist(list(map(len, table1.iloc[:,0])), bins=20)\n",
    "None"
   ]
  },
  {
   "cell_type": "markdown",
   "id": "d83e1318-84ed-4617-97c7-5ad4e4cc70a4",
   "metadata": {},
   "source": [
    "## 2. Картинка"
   ]
  },
  {
   "cell_type": "markdown",
   "id": "56d6b728-e540-4deb-b8fa-8d0b6d3319f8",
   "metadata": {},
   "source": [
    "<img src=\"image.jpg\" alt=\"Картинка\" width=\"500\" height=\"300\">"
   ]
  }
 ],
 "metadata": {
  "kernelspec": {
   "display_name": "Python [conda env:.conda-base2]",
   "language": "python",
   "name": "conda-env-.conda-base2-py"
  },
  "language_info": {
   "codemirror_mode": {
    "name": "ipython",
    "version": 3
   },
   "file_extension": ".py",
   "mimetype": "text/x-python",
   "name": "python",
   "nbconvert_exporter": "python",
   "pygments_lexer": "ipython3",
   "version": "3.12.9"
  }
 },
 "nbformat": 4,
 "nbformat_minor": 5
}
