{
 "cells": [
  {
   "cell_type": "code",
   "execution_count": 38,
   "id": "a3979eca-9de1-449c-aa16-5aa82dc05ae6",
   "metadata": {},
   "outputs": [],
   "source": [
    "import numpy as np\n",
    "from tqdm import tqdm\n",
    "import Bio.SeqIO as SeqIO"
   ]
  },
  {
   "cell_type": "markdown",
   "id": "64706bf1-e1f2-4a39-9f08-23f4c2526bf5",
   "metadata": {},
   "source": [
    "## Реализация алгоритмов Смита-Ватермана и Нидлмана-Вунша\n",
    "Алгоритмы практически одинаковы и отличаются только тем, как инициализируется матрица скоров (в алгоритме Нидлмана-Вунша \"бортик\" заполняется арифметической прогрессией с разностью, равной штрафу за гэп, а в алгоритме Смита-Ватермана - нулями) и тем, откуда начинается обратный ход. Поэтому их можно реализовать в одной функции, что я и сделал."
   ]
  },
  {
   "cell_type": "code",
   "execution_count": 132,
   "id": "66a63684-a435-41f7-9576-07456b028ba5",
   "metadata": {},
   "outputs": [],
   "source": [
    "def calculate_matrix(x: str, y: str, \n",
    "                        scoring_matrix: np.ndarray[np.ndarray[int]], indel_cost: int,\n",
    "                        algorithm='global') -> np.ndarray[np.ndarray[int]]:\n",
    "    \"\"\"\n",
    "    Вычисляет матрицу скоров для алгоритмов Смита-Ватермана и Нидлмана-Вунша. Принимаются только ДНКовые последовательности.\n",
    "    :param str x: Первая последовательность.\n",
    "    :param str y: Вторая последовательность.\n",
    "    :param np.ndarrat[np.ndarray[int]] scoring_matrix: Матрица 4x4, устанавливающая штрафы за разные мисметчи.\n",
    "    :param int indel_cost: Штраф за инделы, отрицательное число.\n",
    "    :param str algorithm: Алгоритм выравнивания: global - Нидлман-Вунш, local - Смит-Ватерман.\n",
    "    :return: матрицу скоров, позицию максимума в виде кортежа (i, j) и матрицу обратного хода.\n",
    "    \"\"\"\n",
    "\n",
    "    x = list(x); y = list(y)\n",
    "    nucl_to_idx = {'a':0, 't':1, 'g':2, 'c':3}\n",
    "    \n",
    "    score_matrix = np.zeros((len(x)+1, len(y)+1))\n",
    "    if algorithm == 'global':\n",
    "        score_matrix[0, ...] = np.arange(0, (len(y)+1)*indel_cost, indel_cost)\n",
    "        score_matrix[..., 0] = np.arange(0, (len(x)+1)*indel_cost, indel_cost)\n",
    "    elif algorithm == 'local':\n",
    "        pass\n",
    "    else:\n",
    "        raise Exception('Invalid algorithm value, must be on of: needleman-wunsch, global, local')\n",
    "\n",
    "    max_pos = (0, 0)\n",
    "    backtrace_matrix = np.zeros((len(x)+1, len(y)+1))\n",
    "\n",
    "    for i in tqdm(range(1, len(x)+1), desc='Calculating score matrix: '):\n",
    "        for j in range(1, len(y)+1):\n",
    "            cx = nucl_to_idx[x[i-1].lower()]; cy = nucl_to_idx[y[j-1].lower()]\n",
    "            match_mismatch = score_matrix[i-1][j-1] + scoring_matrix[cx][cy]\n",
    "            indel_x = score_matrix[i][j-1] + indel_cost\n",
    "            indel_y = score_matrix[i-1][j] + indel_cost\n",
    "            aux = np.array([match_mismatch, indel_x, indel_y])\n",
    "            score_matrix[i][j] = aux.max()\n",
    "            backtrace_matrix[i][j] = np.argmax(aux) + 1\n",
    "                                     \n",
    "            \n",
    "            if score_matrix[i][j] > score_matrix[max_pos[0]][max_pos[1]]:\n",
    "                max_pos = (i, j)\n",
    "\n",
    "    return score_matrix, max_pos, backtrace_matrix"
   ]
  },
  {
   "cell_type": "code",
   "execution_count": 133,
   "id": "b3228318-e351-48e9-bcc4-e9759f3d2153",
   "metadata": {},
   "outputs": [],
   "source": [
    "def backtrace_fun(x: str, y: str, backtrace_matrix: np.ndarray[np.ndarray[int]],\n",
    "                  max_pos=None) -> tuple[str, str]:\n",
    "    \"\"\"\n",
    "    Обратный ход выравнивания. Применим для обоих алгоритмов.\n",
    "    :param x: Первая последовательность.\n",
    "    :param y: Вторая последовательность.\n",
    "    :param max_pos: Кортеж (i, j) - положение максимума.\n",
    "    :param backtrace_matrix: Матрица обратного хода.\n",
    "    Возвращает: Две строки с выравниванием.\n",
    "    \n",
    "    \"\"\"\n",
    "    align1, align2 = '', ''\n",
    "    if max_pos is not None:\n",
    "        i, j = max_pos\n",
    "    else:\n",
    "        i, j = len(x), len(y)\n",
    "    nucl_to_idx = {'a':0, 't':1, 'g':2, 'c':3}\n",
    "    if max_pos is not None:\n",
    "        \n",
    "    \n",
    "    print('Backtracing...')\n",
    "    while i > 0 and j > 0:\n",
    "        if backtrace_matrix[i][j] == 1:\n",
    "            align1 += x[i-1]\n",
    "            align2 += y[j-1]\n",
    "            i -= 1; j -= 1\n",
    "        elif backtrace_matrix[i][j] == 3:\n",
    "            align1 += x[i-1]\n",
    "            align2 += '-'\n",
    "            i -= 1\n",
    "        elif backtrace_matrix[i][j] == 2:\n",
    "            align1 += '-'\n",
    "            align2 += y[j-1]\n",
    "            j -= 1\n",
    "    \n",
    "    while i > 0:\n",
    "        align1 += x[i-1]\n",
    "        align2 += '-'\n",
    "        i -= 1\n",
    "    while j > 0:\n",
    "        align1 += '-'\n",
    "        align2 += y[j-1]\n",
    "        j -= 1\n",
    "\n",
    "    return align1[::-1], align2[::-1]"
   ]
  },
  {
   "cell_type": "code",
   "execution_count": 123,
   "id": "d961cbd0-8d84-449b-8937-81e39aa79400",
   "metadata": {},
   "outputs": [
    {
     "name": "stderr",
     "output_type": "stream",
     "text": [
      "Calculating score matrix: 100%|██████████| 7/7 [00:00<00:00, 5593.47it/s]"
     ]
    },
    {
     "name": "stdout",
     "output_type": "stream",
     "text": [
      "Scores:\n",
      "0.0\t-3.0\t-6.0\t-9.0\t-12.0\t-15.0\t-18.0\n",
      "-3.0\t-1.0\t-1.0\t-4.0\t-7.0\t-10.0\t-13.0\n",
      "-6.0\t-4.0\t1.0\t1.0\t-2.0\t-5.0\t-8.0\n",
      "-9.0\t-7.0\t-2.0\t3.0\t0.0\t-3.0\t-6.0\n",
      "-12.0\t-10.0\t-5.0\t0.0\t2.0\t2.0\t-1.0\n",
      "-15.0\t-13.0\t-8.0\t-3.0\t2.0\t1.0\t1.0\n",
      "-18.0\t-16.0\t-11.0\t-6.0\t-1.0\t4.0\t1.0\n",
      "-21.0\t-19.0\t-14.0\t-9.0\t-4.0\t1.0\t3.0\n",
      "(6, 5)\n",
      "\n",
      "Backtrace:\n",
      "0.0\t0.0\t0.0\t0.0\t0.0\t0.0\t0.0\n",
      "0.0\t1.0\t1.0\t1.0\t2.0\t2.0\t2.0\n",
      "0.0\t1.0\t1.0\t1.0\t2.0\t2.0\t2.0\n",
      "0.0\t1.0\t1.0\t1.0\t1.0\t1.0\t1.0\n",
      "0.0\t1.0\t3.0\t3.0\t1.0\t1.0\t2.0\n",
      "0.0\t1.0\t3.0\t3.0\t1.0\t1.0\t1.0\n",
      "0.0\t1.0\t3.0\t3.0\t3.0\t1.0\t2.0\n",
      "0.0\t1.0\t1.0\t1.0\t3.0\t3.0\t1.0\n",
      "(6, 5)\n",
      "Backtracing...\n",
      "AAAGTG\n",
      "CAA-TG\n"
     ]
    },
    {
     "name": "stderr",
     "output_type": "stream",
     "text": [
      "\n"
     ]
    }
   ],
   "source": [
    "x = 'AAAGTGA'\n",
    "y = 'CAATGC'\n",
    "\n",
    "s = np.array([[2, -1, -1, -1],\n",
    "              [-1, 2, -1, -1],\n",
    "              [-1, -1, 2, -1],\n",
    "              [-1, -1, -1, 2]\n",
    "])\n",
    "d = -3\n",
    "\n",
    "scores, max_pos, backtrace = calculate_matrix(x, y, s, d)\n",
    "print('Scores:', *['\\t'.join(map(str, row)) for row in scores], max_pos, sep='\\n')\n",
    "print()\n",
    "print('Backtrace:', *['\\t'.join(map(str, row)) for row in backtrace], max_pos, sep='\\n')\n",
    "print(*backtrace_fun(x, y, max_pos, backtrace), sep='\\n')"
   ]
  },
  {
   "cell_type": "markdown",
   "id": "2dc14cd6-70bc-482a-81e7-718ba51de148",
   "metadata": {},
   "source": [
    "Это выравнивание первых 100 нуклеотидов последовательностей инсулина человека и морской свинки."
   ]
  },
  {
   "cell_type": "code",
   "execution_count": 124,
   "id": "745d6969-5732-4a71-b0d8-257c0e2c9788",
   "metadata": {},
   "outputs": [
    {
     "name": "stderr",
     "output_type": "stream",
     "text": [
      "Calculating score matrix: 100%|██████████| 100/100 [00:00<00:00, 1045.94it/s]"
     ]
    },
    {
     "name": "stdout",
     "output_type": "stream",
     "text": [
      "Backtracing...\n",
      "CT-C-GA-GGGGC-CTA-GACATTGCCCTCCAGAGAGAGCACCCAACACCCTCCAGGCTTGACCGGCCAGGGTGTCCCCTTCC\n",
      "CTGCAGACCCAGCACCAGGGAAATG--ATCCAGAAATTGCAACC-TCAGCCCCCTGGC--CATCTG-C-TGATGCCACCACCC\n"
     ]
    },
    {
     "name": "stderr",
     "output_type": "stream",
     "text": [
      "\n"
     ]
    }
   ],
   "source": [
    "x = list(SeqIO.parse('human.fasta', 'fasta'))[0].seq[0:100]\n",
    "y = list(SeqIO.parse('guinea_pig.fasta', 'fasta'))[0].seq[0:100]\n",
    "\n",
    "scores, max_pos, backtrace = needleman_wunsch_matrix(x, y, s, d)\n",
    "#print('Scores:', *['\\t'.join(map(str, row)) for row in scores], max_pos, sep='\\n')\n",
    "#print()\n",
    "#print('Backtrace:', *['\\t'.join(map(str, row)) for row in backtrace], max_pos, sep='\\n')\n",
    "print(*backtrace_fun(x, y, max_pos, backtrace), sep='\\n')"
   ]
  },
  {
   "cell_type": "code",
   "execution_count": 125,
   "id": "84d4d770-e1df-4087-a544-6cbb66f86ee7",
   "metadata": {},
   "outputs": [
    {
     "name": "stderr",
     "output_type": "stream",
     "text": [
      "Calculating score matrix: 100%|██████████| 7/7 [00:00<00:00, 4678.16it/s]"
     ]
    },
    {
     "name": "stdout",
     "output_type": "stream",
     "text": [
      "Scores:\n",
      "0.0\t0.0\t0.0\t0.0\t0.0\t0.0\t0.0\n",
      "0.0\t-1.0\t2.0\t2.0\t-1.0\t-1.0\t-1.0\n",
      "0.0\t-1.0\t1.0\t4.0\t1.0\t-2.0\t-2.0\n",
      "0.0\t-1.0\t1.0\t3.0\t3.0\t0.0\t-3.0\n",
      "0.0\t-1.0\t-2.0\t0.0\t2.0\t5.0\t2.0\n",
      "0.0\t-1.0\t-2.0\t-3.0\t2.0\t2.0\t4.0\n",
      "0.0\t-1.0\t-2.0\t-3.0\t-1.0\t4.0\t1.0\n",
      "0.0\t-1.0\t1.0\t0.0\t-3.0\t1.0\t3.0\n",
      "(4, 5)\n",
      "\n",
      "Backtrace:\n",
      "0.0\t0.0\t0.0\t0.0\t0.0\t0.0\t0.0\n",
      "0.0\t1.0\t1.0\t1.0\t1.0\t1.0\t1.0\n",
      "0.0\t1.0\t1.0\t1.0\t1.0\t1.0\t1.0\n",
      "0.0\t1.0\t1.0\t1.0\t1.0\t1.0\t1.0\n",
      "0.0\t1.0\t1.0\t1.0\t1.0\t1.0\t2.0\n",
      "0.0\t1.0\t1.0\t1.0\t1.0\t3.0\t1.0\n",
      "0.0\t1.0\t1.0\t1.0\t3.0\t1.0\t1.0\n",
      "0.0\t1.0\t1.0\t1.0\t2.0\t3.0\t1.0\n",
      "(4, 5)\n",
      "Backtracing...\n",
      "-AAAG\n",
      "CAATG\n"
     ]
    },
    {
     "name": "stderr",
     "output_type": "stream",
     "text": [
      "\n"
     ]
    }
   ],
   "source": [
    "x = 'AAAGTGA'\n",
    "y = 'CAATGC'\n",
    "\n",
    "s = np.array([[2, -1, -1, -1],\n",
    "              [-1, 2, -1, -1],\n",
    "              [-1, -1, 2, -1],\n",
    "              [-1, -1, -1, 2]\n",
    "])\n",
    "d = -3\n",
    "\n",
    "scores, max_pos, backtrace = calculate_matrix(x, y, s, d, algorithm='local')\n",
    "print('Scores:', *['\\t'.join(map(str, row)) for row in scores], max_pos, sep='\\n')\n",
    "print()\n",
    "print('Backtrace:', *['\\t'.join(map(str, row)) for row in backtrace], max_pos, sep='\\n')\n",
    "print(*backtrace_fun(x, y, max_pos, backtrace), sep='\\n')"
   ]
  },
  {
   "cell_type": "code",
   "execution_count": 126,
   "id": "6f27ce47-1d0e-4bfb-b833-b2e4e4521181",
   "metadata": {},
   "outputs": [
    {
     "name": "stderr",
     "output_type": "stream",
     "text": [
      "Calculating score matrix: 100%|██████████| 100/100 [00:00<00:00, 822.55it/s]"
     ]
    },
    {
     "name": "stdout",
     "output_type": "stream",
     "text": [
      "Backtracing...\n",
      "CTCGAGGGGCCTAGACATTGCCCTCCAGAGAGAGCACC--CAACACCCTCCAG-GCTTGACCGGCCAGGGTGTCCCCTTCCTACCT--TGGAGAGAGCAGCCCCA\n",
      "----------------------CTGCAGACCCAGCACCAGGGAAATGATCCAGAAATTG--CAACC--TCAGCCCCCTGGCCATCTGCTGATGCCACCACCCCCA\n"
     ]
    },
    {
     "name": "stderr",
     "output_type": "stream",
     "text": [
      "\n"
     ]
    }
   ],
   "source": [
    "x = list(SeqIO.parse('human.fasta', 'fasta'))[0].seq[0:100]\n",
    "y = list(SeqIO.parse('guinea_pig.fasta', 'fasta'))[0].seq[0:100]\n",
    "\n",
    "scores, max_pos, backtrace = calculate_matrix(x, y, s, d, algorithm='local')\n",
    "#print('Scores:', *['\\t'.join(map(str, row)) for row in scores], max_pos, sep='\\n')\n",
    "#print()\n",
    "#print('Backtrace:', *['\\t'.join(map(str, row)) for row in backtrace], max_pos, sep='\\n')\n",
    "print(*backtrace_fun(x, y, max_pos, backtrace), sep='\\n')"
   ]
  }
 ],
 "metadata": {
  "kernelspec": {
   "display_name": "Python [conda env:.conda-base2]",
   "language": "python",
   "name": "conda-env-.conda-base2-py"
  },
  "language_info": {
   "codemirror_mode": {
    "name": "ipython",
    "version": 3
   },
   "file_extension": ".py",
   "mimetype": "text/x-python",
   "name": "python",
   "nbconvert_exporter": "python",
   "pygments_lexer": "ipython3",
   "version": "3.12.9"
  }
 },
 "nbformat": 4,
 "nbformat_minor": 5
}
