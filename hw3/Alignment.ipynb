{
 "cells": [
  {
   "cell_type": "code",
   "execution_count": 1,
   "id": "a3979eca-9de1-449c-aa16-5aa82dc05ae6",
   "metadata": {},
   "outputs": [],
   "source": [
    "import numpy as np\n",
    "from tqdm import tqdm\n",
    "import Bio.SeqIO as SeqIO\n",
    "from Bio import Align"
   ]
  },
  {
   "cell_type": "markdown",
   "id": "64706bf1-e1f2-4a39-9f08-23f4c2526bf5",
   "metadata": {},
   "source": [
    "## Реализация алгоритмов Смита-Ватермана и Нидлмана-Вунша\n",
    "Так как алгоритмы мало отличаются, я сделал для них обоих только одну функцию для вычисления матрицы скоров и одну - для обратного хода."
   ]
  },
  {
   "cell_type": "code",
   "execution_count": 2,
   "id": "66a63684-a435-41f7-9576-07456b028ba5",
   "metadata": {},
   "outputs": [],
   "source": [
    "def calculate_matrix(x: str, y: str, \n",
    "                        scoring_matrix: np.ndarray[np.ndarray[int]], indel_cost: int,\n",
    "                        algorithm='global') -> np.ndarray[np.ndarray[int]]:\n",
    "    \"\"\"\n",
    "    Вычисляет матрицу скоров для алгоритмов Смита-Ватермана и Нидлмана-Вунша. Принимаются только ДНКовые последовательности.\n",
    "    :param str x: Первая последовательность.\n",
    "    :param str y: Вторая последовательность.\n",
    "    :param np.ndarrat[np.ndarray[int]] scoring_matrix: Матрица 4x4, устанавливающая штрафы за разные мисметчи.\n",
    "    :param int indel_cost: Штраф за инделы, отрицательное число.\n",
    "    :param str algorithm: Алгоритм выравнивания: global - Нидлман-Вунш, local - Смит-Ватерман.\n",
    "    :return: матрицу скоров, позицию максимума в виде кортежа (i, j) и матрицу обратного хода.\n",
    "    \"\"\"\n",
    "    if len(y) < len(x): x, y = y, x\n",
    "    x = list(x); y = list(y)\n",
    "    nucl_to_idx = {'a':0, 't':1, 'g':2, 'c':3} # Для сопоставления нуклеотида индексу в матрице\n",
    "    \n",
    "    score_matrix = np.zeros((len(x)+1, len(y)+1))\n",
    "    if algorithm == 'global':\n",
    "        score_matrix[0, ...] = np.arange(0, (len(y)+1)*indel_cost, indel_cost)\n",
    "        score_matrix[..., 0] = np.arange(0, (len(x)+1)*indel_cost, indel_cost)\n",
    "    elif algorithm == 'local':\n",
    "        #scoring_matrix = (scoring_matrix == np.abs(scoring_matrix)).astype(int)\n",
    "        pass\n",
    "    else:\n",
    "        raise Exception('Invalid algorithm value, must be on of: global, local')\n",
    "\n",
    "    max_pos = (0, 0)\n",
    "    backtrace_matrix = np.zeros((len(x)+1, len(y)+1))\n",
    "\n",
    "    for i in tqdm(range(1, len(x)+1), desc='Calculating score matrix: '):\n",
    "        for j in range(1, len(y)+1):\n",
    "            cx = nucl_to_idx[x[i-1].lower()]; cy = nucl_to_idx[y[j-1].lower()] # Собственно сопоставление\n",
    "            \n",
    "            match_mismatch = score_matrix[i-1][j-1] + scoring_matrix[cx][cy]\n",
    "            indel_x = score_matrix[i][j-1] + indel_cost\n",
    "            indel_y = score_matrix[i-1][j] + indel_cost\n",
    "\n",
    "            # Этот массив нужен, чтобы использовать argmax и не писать многи if'ов для backtrace_matrix\n",
    "            aux = np.array([match_mismatch, indel_x, indel_y])\n",
    "            score_matrix[i][j] = aux.max()\n",
    "            # Просто код для бэктрейса: 1 - матч/мисматч, 2 и 3 - инделы\n",
    "            backtrace_matrix[i][j] = np.argmax(aux) + 1 \n",
    "                                     \n",
    "            \n",
    "            if score_matrix[i][j] >= score_matrix[max_pos[0]][max_pos[1]]:\n",
    "                max_pos = (i, j)\n",
    "\n",
    "    return score_matrix, max_pos, backtrace_matrix"
   ]
  },
  {
   "cell_type": "code",
   "execution_count": 3,
   "id": "b3228318-e351-48e9-bcc4-e9759f3d2153",
   "metadata": {},
   "outputs": [],
   "source": [
    "def backtrace_fun(x: str, y: str, backtrace_matrix: np.ndarray[np.ndarray[int]],\n",
    "                  max_pos=None, score_matrix=None) -> tuple[str, str]:\n",
    "    \"\"\"\n",
    "    Обратный ход выравнивания. Применим для обоих алгоритмов. Если max_pos=Null, то используется бэктрейс для алгоритма\n",
    "    Нидлмана-Вунша, если нет - Смита-Ватермана.\n",
    "    :param x: Первая последовательность.\n",
    "    :param y: Вторая последовательность.\n",
    "    :param max_pos: Кортеж (i, j) - положение максимума.\n",
    "    :param backtrace_matrix: Матрица обратного хода.\n",
    "    :return: Две строки с выравниванием.\n",
    "    \n",
    "    \"\"\"\n",
    "    if len(y) < len(x): x, y = y, x\n",
    "    align1, align2 = '', ''\n",
    "    if max_pos is not None:\n",
    "        i, j = max_pos\n",
    "    else:\n",
    "        i, j = len(x), len(y)\n",
    "    nucl_to_idx = {'a':0, 't':1, 'g':2, 'c':3}\n",
    "    \n",
    "    print('Backtracing...')\n",
    "    while (i > 0 and j > 0) if max_pos is None else (score_matrix[i][j] != 0):\n",
    "        if backtrace_matrix[i][j] == 1:\n",
    "            align1 = x[i-1] + align1\n",
    "            align2 = y[j-1] + align2\n",
    "            i -= 1; j -= 1\n",
    "        elif backtrace_matrix[i][j] == 3:\n",
    "            align1 = x[i-1] + align1\n",
    "            align2 = '-' + align2\n",
    "            i -= 1\n",
    "        elif backtrace_matrix[i][j] == 2:\n",
    "            align1 = '-' + align1\n",
    "            align2 = y[j-1] + align2\n",
    "            j -= 1\n",
    "    print(i, j)\n",
    "\n",
    "    if max_pos is None:\n",
    "        while i > 0:\n",
    "            align1 = x[i-1] + align1\n",
    "            align2 = '-' + align2\n",
    "            i -= 1\n",
    "        while j > 0:\n",
    "            align1 = '-' + align1\n",
    "            align2 = y[j-1] + align2\n",
    "            j -= 1\n",
    "            \n",
    "    else:\n",
    "        mx, my = max_pos\n",
    "        align1 = x[:i] + align1 + x[mx:]\n",
    "        align2 = y[:j] + align2 + y[my:]\n",
    "        if i < j: align1 = '-'*(j - i) + align1\n",
    "        elif j < i: align2 = '-'*(i - j) + align2\n",
    "\n",
    "        # Немного спагетти-кода\n",
    "        while mx < len(x)+1 and my < len(y)+1:\n",
    "            mx += 1; my += 1\n",
    "        while mx < len(x)+1:\n",
    "            align2 += '-'; mx += 1\n",
    "        while my < len(y)+1:\n",
    "            align1 += '-'; my += 1\n",
    "\n",
    "    return align1, align2"
   ]
  },
  {
   "cell_type": "code",
   "execution_count": 4,
   "id": "d961cbd0-8d84-449b-8937-81e39aa79400",
   "metadata": {},
   "outputs": [
    {
     "name": "stderr",
     "output_type": "stream",
     "text": [
      "Calculating score matrix: 100%|████████████████████████████████████████████████████████████████████████████████████████████████| 6/6 [00:00<00:00, 8352.41it/s]"
     ]
    },
    {
     "name": "stdout",
     "output_type": "stream",
     "text": [
      "Scores:\n",
      "0.0\t-3.0\t-6.0\t-9.0\t-12.0\t-15.0\t-18.0\t-21.0\n",
      "-3.0\t-1.0\t-4.0\t-7.0\t-10.0\t-13.0\t-16.0\t-19.0\n",
      "-6.0\t-1.0\t1.0\t-2.0\t-5.0\t-8.0\t-11.0\t-14.0\n",
      "-9.0\t-4.0\t1.0\t3.0\t0.0\t-3.0\t-6.0\t-9.0\n",
      "-12.0\t-7.0\t-2.0\t0.0\t2.0\t2.0\t-1.0\t-4.0\n",
      "-15.0\t-10.0\t-5.0\t-3.0\t2.0\t1.0\t4.0\t1.0\n",
      "-18.0\t-13.0\t-8.0\t-6.0\t-1.0\t1.0\t1.0\t3.0\n",
      "(5, 6)\n",
      "\n",
      "Backtrace:\n",
      "0.0\t0.0\t0.0\t0.0\t0.0\t0.0\t0.0\t0.0\n",
      "0.0\t1.0\t1.0\t1.0\t1.0\t1.0\t1.0\t1.0\n",
      "0.0\t1.0\t1.0\t1.0\t2.0\t2.0\t2.0\t1.0\n",
      "0.0\t1.0\t1.0\t1.0\t2.0\t2.0\t2.0\t1.0\n",
      "0.0\t3.0\t3.0\t1.0\t1.0\t1.0\t2.0\t2.0\n",
      "0.0\t3.0\t3.0\t1.0\t1.0\t1.0\t1.0\t2.0\n",
      "0.0\t3.0\t3.0\t1.0\t3.0\t1.0\t3.0\t1.0\n",
      "(5, 6)\n",
      "Backtracing...\n",
      "0 0\n",
      "CAA-TGC\n",
      " || || \n",
      "AAAGTGA\n"
     ]
    },
    {
     "name": "stderr",
     "output_type": "stream",
     "text": [
      "\n"
     ]
    }
   ],
   "source": [
    "x = 'AAAGTGA'\n",
    "y = 'CAATGC'\n",
    "\n",
    "s = np.array([[2, -1, -1, -1],\n",
    "              [-1, 2, -1, -1],\n",
    "              [-1, -1, 2, -1],\n",
    "              [-1, -1, -1, 2]\n",
    "])\n",
    "d = -3\n",
    "\n",
    "scores, max_pos, backtrace = calculate_matrix(x, y, s, d)\n",
    "print('Scores:', *['\\t'.join(map(str, row)) for row in scores], max_pos, sep='\\n')\n",
    "print()\n",
    "print('Backtrace:', *['\\t'.join(map(str, row)) for row in backtrace], max_pos, sep='\\n')\n",
    "align1, align2 = backtrace_fun(x, y, backtrace)\n",
    "print(align1)\n",
    "print(*['|' if align1[i] == align2[i] else ' ' for i in range(len(align1))], sep='')\n",
    "print(align2)"
   ]
  },
  {
   "cell_type": "markdown",
   "id": "2dc14cd6-70bc-482a-81e7-718ba51de148",
   "metadata": {},
   "source": [
    "Это выравнивание 100 нуклеотидов последовательностей инсулина человека и морской свинки с хорошим совпадением."
   ]
  },
  {
   "cell_type": "code",
   "execution_count": 5,
   "id": "745d6969-5732-4a71-b0d8-257c0e2c9788",
   "metadata": {},
   "outputs": [
    {
     "name": "stderr",
     "output_type": "stream",
     "text": [
      "Calculating score matrix: 100%|██████████████████████████████████████████████████████████████████████████████████████████████| 70/70 [00:00<00:00, 1235.07it/s]"
     ]
    },
    {
     "name": "stdout",
     "output_type": "stream",
     "text": [
      "Backtracing...\n",
      "0 0\n",
      "TCCGGAAATTGCAGCCTCAGCCCCC-AGCCATCTGCCGACCCCCCCA-CCCC--G-CCCTAATGGGCCAGGCGGC\n",
      "||| ||||||||| |||||||||||  ||||||||| ||  || ||| ||||  | |||||||||| |   | | \n",
      "TCCAGAAATTGCAACCTCAGCCCCCTGGCCATCTGCTGATGCCACCACCCCCAGGTCCCTAATGGG-C---CTG-\n"
     ]
    },
    {
     "name": "stderr",
     "output_type": "stream",
     "text": [
      "\n"
     ]
    }
   ],
   "source": [
    "x_fa = list(SeqIO.parse('human.fasta', 'fasta'))[0].seq[2050:2120]\n",
    "y_fa = list(SeqIO.parse('guinea_pig.fasta', 'fasta'))[0].seq[26:96]\n",
    "\n",
    "scores, max_pos, backtrace = calculate_matrix(x_fa, y_fa, s, d)\n",
    "#print('Scores:', *['\\t'.join(map(str, row)) for row in scores], max_pos, sep='\\n')\n",
    "#print()\n",
    "#print('Backtrace:', *['\\t'.join(map(str, row)) for row in backtrace], max_pos, sep='\\n')\n",
    "align1, align2 = backtrace_fun(x_fa, y_fa, backtrace)\n",
    "print(align1)\n",
    "print(*['|' if align1[i] == align2[i] else ' ' for i in range(len(align1))], sep='')\n",
    "print(align2)"
   ]
  },
  {
   "cell_type": "code",
   "execution_count": 6,
   "id": "84d4d770-e1df-4087-a544-6cbb66f86ee7",
   "metadata": {},
   "outputs": [
    {
     "name": "stderr",
     "output_type": "stream",
     "text": [
      "Calculating score matrix: 100%|████████████████████████████████████████████████████████████████████████████████████████████████| 6/6 [00:00<00:00, 5678.21it/s]"
     ]
    },
    {
     "name": "stdout",
     "output_type": "stream",
     "text": [
      "Scores:\n",
      "0.0\t0.0\t0.0\t0.0\t0.0\t0.0\t0.0\t0.0\n",
      "0.0\t-1.0\t-1.0\t-1.0\t-1.0\t-1.0\t-1.0\t-1.0\n",
      "0.0\t2.0\t1.0\t1.0\t-2.0\t-2.0\t-2.0\t1.0\n",
      "0.0\t2.0\t4.0\t3.0\t0.0\t-3.0\t-3.0\t0.0\n",
      "0.0\t-1.0\t1.0\t3.0\t2.0\t2.0\t-1.0\t-3.0\n",
      "0.0\t-1.0\t-2.0\t0.0\t5.0\t2.0\t4.0\t1.0\n",
      "0.0\t-1.0\t-2.0\t-3.0\t2.0\t4.0\t1.0\t3.0\n",
      "(5, 4)\n",
      "\n",
      "Backtrace:\n",
      "0.0\t0.0\t0.0\t0.0\t0.0\t0.0\t0.0\t0.0\n",
      "0.0\t1.0\t1.0\t1.0\t1.0\t1.0\t1.0\t1.0\n",
      "0.0\t1.0\t1.0\t1.0\t1.0\t1.0\t1.0\t1.0\n",
      "0.0\t1.0\t1.0\t1.0\t1.0\t1.0\t1.0\t1.0\n",
      "0.0\t1.0\t1.0\t1.0\t1.0\t1.0\t2.0\t3.0\n",
      "0.0\t1.0\t1.0\t1.0\t1.0\t2.0\t1.0\t2.0\n",
      "0.0\t1.0\t1.0\t1.0\t3.0\t1.0\t1.0\t1.0\n",
      "(5, 4)\n",
      "Backtracing...\n",
      "1 0\n",
      "CAATGC--\n",
      " || |   \n",
      "-AAAGTGA\n"
     ]
    },
    {
     "name": "stderr",
     "output_type": "stream",
     "text": [
      "\n"
     ]
    }
   ],
   "source": [
    "scores, max_pos, backtrace = calculate_matrix(x, y, s, d, 'local')\n",
    "print('Scores:', *['\\t'.join(map(str, row)) for row in scores], max_pos, sep='\\n')\n",
    "print()\n",
    "print('Backtrace:', *['\\t'.join(map(str, row)) for row in backtrace], max_pos, sep='\\n')\n",
    "align1, align2 = backtrace_fun(x, y, backtrace, max_pos, scores)\n",
    "print(align1)\n",
    "print(*['|' if align1[i] == align2[i] else ' ' for i in range(len(align1))], sep='')\n",
    "print(align2)"
   ]
  },
  {
   "cell_type": "code",
   "execution_count": 13,
   "id": "6f27ce47-1d0e-4bfb-b833-b2e4e4521181",
   "metadata": {},
   "outputs": [
    {
     "name": "stderr",
     "output_type": "stream",
     "text": [
      "Calculating score matrix: 100%|███████████████████████████████████████████████████████████████████████████████████████████████| 40/40 [00:00<00:00, 958.72it/s]"
     ]
    },
    {
     "name": "stdout",
     "output_type": "stream",
     "text": [
      "40 20\n",
      "Backtracing...\n",
      "20 0\n",
      "ACCCAGCACCAGGGAAATGGTCCGGAAATTGCAGCCTCAG--------------------------------------------------\n",
      "                    ||| ||||||||| ||||||                                                  \n",
      "--------------------TCCAGAAATTGCAACCTCAGCCCCCTGGCCATCTGCTGATGCCACCACCCCCAGGTCCCTAATGGGCCTG\n"
     ]
    },
    {
     "name": "stderr",
     "output_type": "stream",
     "text": [
      "\n"
     ]
    }
   ],
   "source": [
    "x_fa = list(SeqIO.parse('human.fasta', 'fasta'))[0].seq[2030:2070]\n",
    "y_fa = list(SeqIO.parse('guinea_pig.fasta', 'fasta'))[0].seq[26:96]\n",
    "\n",
    "scores, max_pos, backtrace = calculate_matrix(x_fa, y_fa, s, d, algorithm='local')\n",
    "print(*max_pos)\n",
    "align1, align2 = backtrace_fun(x_fa, y_fa, backtrace, max_pos, scores)\n",
    "print(align1)\n",
    "print(*['|' if align1[i] == align2[i] else ' ' for i in range(len(align1))], sep='')\n",
    "print(align2)"
   ]
  },
  {
   "cell_type": "markdown",
   "id": "b77405e5-67ba-4706-aabd-6bc7cdad475d",
   "metadata": {},
   "source": [
    "Попробуем запустить на той же последовательности глобальное выравнивание:"
   ]
  },
  {
   "cell_type": "code",
   "execution_count": 8,
   "id": "385b3fed-fe9e-4472-8c8f-3ebcc492115b",
   "metadata": {},
   "outputs": [
    {
     "name": "stderr",
     "output_type": "stream",
     "text": [
      "Calculating score matrix: 100%|██████████████████████████████████████████████████████████████████████████████████████████████| 40/40 [00:00<00:00, 1295.57it/s]"
     ]
    },
    {
     "name": "stdout",
     "output_type": "stream",
     "text": [
      "Backtracing...\n",
      "0 0\n",
      "ACC---CA--GC-A-C-CAG------GG--AAATG--G-T-CCGGAAATTGCA-G--CC---T----CAG\n",
      " ||    |  || | | |||      ||  |  ||  | | ||   |    || |  ||   |    | |\n",
      "TCCAGAAATTGCAACCTCAGCCCCCTGGCCATCTGCTGATGCCACCACCCCCAGGTCCCTAATGGGCCTG\n"
     ]
    },
    {
     "name": "stderr",
     "output_type": "stream",
     "text": [
      "\n"
     ]
    }
   ],
   "source": [
    "x = list(SeqIO.parse('human.fasta', 'fasta'))[0].seq[2030:2070]\n",
    "y = list(SeqIO.parse('guinea_pig.fasta', 'fasta'))[0].seq[26:96]\n",
    "\n",
    "scores, max_pos, backtrace = calculate_matrix(x, y, s, d)\n",
    "align1, align2 = backtrace_fun(x, y, backtrace)\n",
    "print(align1)\n",
    "print(*['|' if align1[i] == align2[i] else ' ' for i in range(len(align1))], sep='')\n",
    "print(align2)"
   ]
  },
  {
   "cell_type": "markdown",
   "id": "c6ceba8e-08a5-4412-9284-b2debbac6f32",
   "metadata": {},
   "source": [
    "Видно, что результат куда как хуже."
   ]
  },
  {
   "cell_type": "markdown",
   "id": "46da77d3-02c4-438b-abbf-93578257d301",
   "metadata": {},
   "source": [
    "Сделаем тоже самое с помощью функций пакета Biopython:"
   ]
  },
  {
   "cell_type": "code",
   "execution_count": 9,
   "id": "24640d6c-6b2b-4980-98e8-5d9c74036e06",
   "metadata": {},
   "outputs": [
    {
     "name": "stdout",
     "output_type": "stream",
     "text": [
      "-AAAGTGA\n",
      "-||.|.--\n",
      "CAATGC--\n",
      "\n"
     ]
    }
   ],
   "source": [
    "x = 'AAAGTGA'\n",
    "y = 'CAATGC'\n",
    "aligner = Align.PairwiseAligner()\n",
    "aligner.mode = 'global'\n",
    "aligner.mismatch_score = -1\n",
    "aligner.match_score = 2\n",
    "aligner.internal_gap_score = -3\n",
    "for alignment in aligner.align(x, y):\n",
    "    print(alignment)"
   ]
  },
  {
   "cell_type": "code",
   "execution_count": 10,
   "id": "9542579e-4b6a-4867-8bab-76c7bc576870",
   "metadata": {},
   "outputs": [
    {
     "name": "stdout",
     "output_type": "stream",
     "text": [
      "TCCGGAAATTGCAGCCTCAGCCCCCAG-CCATCTGCCGACCCCCCCACCCC--G--CCCTAATGGGCCAGGCGGC\n",
      "|||.|||||||||.|||||||||||.|-||||||||.||..||.|||||||--|--||||||||||||.|-----\n",
      "TCCAGAAATTGCAACCTCAGCCCCCTGGCCATCTGCTGATGCCACCACCCCCAGGTCCCTAATGGGCCTG-----\n",
      "\n",
      "TCCGGAAATTGCAGCCTCAGCCCCCA-GCCATCTGCCGACCCCCCCACCCC--G--CCCTAATGGGCCAGGCGGC\n",
      "|||.|||||||||.|||||||||||.-|||||||||.||..||.|||||||--|--||||||||||||.|-----\n",
      "TCCAGAAATTGCAACCTCAGCCCCCTGGCCATCTGCTGATGCCACCACCCCCAGGTCCCTAATGGGCCTG-----\n",
      "\n",
      "TCCGGAAATTGCAGCCTCAGCCCCC-AGCCATCTGCCGACCCCCCCACCCC--G--CCCTAATGGGCCAGGCGGC\n",
      "|||.|||||||||.|||||||||||-.|||||||||.||..||.|||||||--|--||||||||||||.|-----\n",
      "TCCAGAAATTGCAACCTCAGCCCCCTGGCCATCTGCTGATGCCACCACCCCCAGGTCCCTAATGGGCCTG-----\n",
      "\n",
      "TCCGGAAATTGCAGCCTCAGCCCCCAG-CCATCTGCCGACCCCCCCACCC-C-G--CCCTAATGGGCCAGGCGGC\n",
      "|||.|||||||||.|||||||||||.|-||||||||.||..||.||||||-|-|--||||||||||||.|-----\n",
      "TCCAGAAATTGCAACCTCAGCCCCCTGGCCATCTGCTGATGCCACCACCCCCAGGTCCCTAATGGGCCTG-----\n",
      "\n",
      "TCCGGAAATTGCAGCCTCAGCCCCCA-GCCATCTGCCGACCCCCCCACCC-C-G--CCCTAATGGGCCAGGCGGC\n",
      "|||.|||||||||.|||||||||||.-|||||||||.||..||.||||||-|-|--||||||||||||.|-----\n",
      "TCCAGAAATTGCAACCTCAGCCCCCTGGCCATCTGCTGATGCCACCACCCCCAGGTCCCTAATGGGCCTG-----\n",
      "\n",
      "TCCGGAAATTGCAGCCTCAGCCCCC-AGCCATCTGCCGACCCCCCCACCC-C-G--CCCTAATGGGCCAGGCGGC\n",
      "|||.|||||||||.|||||||||||-.|||||||||.||..||.||||||-|-|--||||||||||||.|-----\n",
      "TCCAGAAATTGCAACCTCAGCCCCCTGGCCATCTGCTGATGCCACCACCCCCAGGTCCCTAATGGGCCTG-----\n",
      "\n",
      "TCCGGAAATTGCAGCCTCAGCCCCCAG-CCATCTGCCGACCCCCCCACC-CC-G--CCCTAATGGGCCAGGCGGC\n",
      "|||.|||||||||.|||||||||||.|-||||||||.||..||.|||||-||-|--||||||||||||.|-----\n",
      "TCCAGAAATTGCAACCTCAGCCCCCTGGCCATCTGCTGATGCCACCACCCCCAGGTCCCTAATGGGCCTG-----\n",
      "\n",
      "TCCGGAAATTGCAGCCTCAGCCCCCA-GCCATCTGCCGACCCCCCCACC-CC-G--CCCTAATGGGCCAGGCGGC\n",
      "|||.|||||||||.|||||||||||.-|||||||||.||..||.|||||-||-|--||||||||||||.|-----\n",
      "TCCAGAAATTGCAACCTCAGCCCCCTGGCCATCTGCTGATGCCACCACCCCCAGGTCCCTAATGGGCCTG-----\n",
      "\n",
      "TCCGGAAATTGCAGCCTCAGCCCCC-AGCCATCTGCCGACCCCCCCACC-CC-G--CCCTAATGGGCCAGGCGGC\n",
      "|||.|||||||||.|||||||||||-.|||||||||.||..||.|||||-||-|--||||||||||||.|-----\n",
      "TCCAGAAATTGCAACCTCAGCCCCCTGGCCATCTGCTGATGCCACCACCCCCAGGTCCCTAATGGGCCTG-----\n",
      "\n",
      "TCCGGAAATTGCAGCCTCAGCCCCCAG-CCATCTGCCGACCCCCCCAC-CCC-G--CCCTAATGGGCCAGGCGGC\n",
      "|||.|||||||||.|||||||||||.|-||||||||.||..||.||||-|||-|--||||||||||||.|-----\n",
      "TCCAGAAATTGCAACCTCAGCCCCCTGGCCATCTGCTGATGCCACCACCCCCAGGTCCCTAATGGGCCTG-----\n",
      "\n",
      "TCCGGAAATTGCAGCCTCAGCCCCCA-GCCATCTGCCGACCCCCCCAC-CCC-G--CCCTAATGGGCCAGGCGGC\n",
      "|||.|||||||||.|||||||||||.-|||||||||.||..||.||||-|||-|--||||||||||||.|-----\n",
      "TCCAGAAATTGCAACCTCAGCCCCCTGGCCATCTGCTGATGCCACCACCCCCAGGTCCCTAATGGGCCTG-----\n",
      "\n",
      "TCCGGAAATTGCAGCCTCAGCCCCC-AGCCATCTGCCGACCCCCCCAC-CCC-G--CCCTAATGGGCCAGGCGGC\n",
      "|||.|||||||||.|||||||||||-.|||||||||.||..||.||||-|||-|--||||||||||||.|-----\n",
      "TCCAGAAATTGCAACCTCAGCCCCCTGGCCATCTGCTGATGCCACCACCCCCAGGTCCCTAATGGGCCTG-----\n",
      "\n",
      "TCCGGAAATTGCAGCCTCAGCCCCCAG-CCATCTGCCGACCCCCCCA-CCCC-G--CCCTAATGGGCCAGGCGGC\n",
      "|||.|||||||||.|||||||||||.|-||||||||.||..||.|||-||||-|--||||||||||||.|-----\n",
      "TCCAGAAATTGCAACCTCAGCCCCCTGGCCATCTGCTGATGCCACCACCCCCAGGTCCCTAATGGGCCTG-----\n",
      "\n",
      "TCCGGAAATTGCAGCCTCAGCCCCCA-GCCATCTGCCGACCCCCCCA-CCCC-G--CCCTAATGGGCCAGGCGGC\n",
      "|||.|||||||||.|||||||||||.-|||||||||.||..||.|||-||||-|--||||||||||||.|-----\n",
      "TCCAGAAATTGCAACCTCAGCCCCCTGGCCATCTGCTGATGCCACCACCCCCAGGTCCCTAATGGGCCTG-----\n",
      "\n",
      "TCCGGAAATTGCAGCCTCAGCCCCC-AGCCATCTGCCGACCCCCCCA-CCCC-G--CCCTAATGGGCCAGGCGGC\n",
      "|||.|||||||||.|||||||||||-.|||||||||.||..||.|||-||||-|--||||||||||||.|-----\n",
      "TCCAGAAATTGCAACCTCAGCCCCCTGGCCATCTGCTGATGCCACCACCCCCAGGTCCCTAATGGGCCTG-----\n",
      "\n",
      "TCCGGAAATTGCAGCCTCAGCCCCCAG-CCATCTGCCGACCCCCCCACCCC---G-CCCTAATGGGCCAGGCGGC\n",
      "|||.|||||||||.|||||||||||.|-||||||||.||..||.|||||||---|-||||||||||||.|-----\n",
      "TCCAGAAATTGCAACCTCAGCCCCCTGGCCATCTGCTGATGCCACCACCCCCAGGTCCCTAATGGGCCTG-----\n",
      "\n",
      "TCCGGAAATTGCAGCCTCAGCCCCCA-GCCATCTGCCGACCCCCCCACCCC---G-CCCTAATGGGCCAGGCGGC\n",
      "|||.|||||||||.|||||||||||.-|||||||||.||..||.|||||||---|-||||||||||||.|-----\n",
      "TCCAGAAATTGCAACCTCAGCCCCCTGGCCATCTGCTGATGCCACCACCCCCAGGTCCCTAATGGGCCTG-----\n",
      "\n",
      "TCCGGAAATTGCAGCCTCAGCCCCC-AGCCATCTGCCGACCCCCCCACCCC---G-CCCTAATGGGCCAGGCGGC\n",
      "|||.|||||||||.|||||||||||-.|||||||||.||..||.|||||||---|-||||||||||||.|-----\n",
      "TCCAGAAATTGCAACCTCAGCCCCCTGGCCATCTGCTGATGCCACCACCCCCAGGTCCCTAATGGGCCTG-----\n",
      "\n",
      "TCCGGAAATTGCAGCCTCAGCCCCCAG-CCATCTGCCGACCCCCCCACCC-C--G-CCCTAATGGGCCAGGCGGC\n",
      "|||.|||||||||.|||||||||||.|-||||||||.||..||.||||||-|--|-||||||||||||.|-----\n",
      "TCCAGAAATTGCAACCTCAGCCCCCTGGCCATCTGCTGATGCCACCACCCCCAGGTCCCTAATGGGCCTG-----\n",
      "\n",
      "TCCGGAAATTGCAGCCTCAGCCCCCA-GCCATCTGCCGACCCCCCCACCC-C--G-CCCTAATGGGCCAGGCGGC\n",
      "|||.|||||||||.|||||||||||.-|||||||||.||..||.||||||-|--|-||||||||||||.|-----\n",
      "TCCAGAAATTGCAACCTCAGCCCCCTGGCCATCTGCTGATGCCACCACCCCCAGGTCCCTAATGGGCCTG-----\n",
      "\n",
      "TCCGGAAATTGCAGCCTCAGCCCCC-AGCCATCTGCCGACCCCCCCACCC-C--G-CCCTAATGGGCCAGGCGGC\n",
      "|||.|||||||||.|||||||||||-.|||||||||.||..||.||||||-|--|-||||||||||||.|-----\n",
      "TCCAGAAATTGCAACCTCAGCCCCCTGGCCATCTGCTGATGCCACCACCCCCAGGTCCCTAATGGGCCTG-----\n",
      "\n",
      "TCCGGAAATTGCAGCCTCAGCCCCCAG-CCATCTGCCGACCCCCCCACC-CC--G-CCCTAATGGGCCAGGCGGC\n",
      "|||.|||||||||.|||||||||||.|-||||||||.||..||.|||||-||--|-||||||||||||.|-----\n",
      "TCCAGAAATTGCAACCTCAGCCCCCTGGCCATCTGCTGATGCCACCACCCCCAGGTCCCTAATGGGCCTG-----\n",
      "\n",
      "TCCGGAAATTGCAGCCTCAGCCCCCA-GCCATCTGCCGACCCCCCCACC-CC--G-CCCTAATGGGCCAGGCGGC\n",
      "|||.|||||||||.|||||||||||.-|||||||||.||..||.|||||-||--|-||||||||||||.|-----\n",
      "TCCAGAAATTGCAACCTCAGCCCCCTGGCCATCTGCTGATGCCACCACCCCCAGGTCCCTAATGGGCCTG-----\n",
      "\n",
      "TCCGGAAATTGCAGCCTCAGCCCCC-AGCCATCTGCCGACCCCCCCACC-CC--G-CCCTAATGGGCCAGGCGGC\n",
      "|||.|||||||||.|||||||||||-.|||||||||.||..||.|||||-||--|-||||||||||||.|-----\n",
      "TCCAGAAATTGCAACCTCAGCCCCCTGGCCATCTGCTGATGCCACCACCCCCAGGTCCCTAATGGGCCTG-----\n",
      "\n",
      "TCCGGAAATTGCAGCCTCAGCCCCCAG-CCATCTGCCGACCCCCCCAC-CCC--G-CCCTAATGGGCCAGGCGGC\n",
      "|||.|||||||||.|||||||||||.|-||||||||.||..||.||||-|||--|-||||||||||||.|-----\n",
      "TCCAGAAATTGCAACCTCAGCCCCCTGGCCATCTGCTGATGCCACCACCCCCAGGTCCCTAATGGGCCTG-----\n",
      "\n",
      "TCCGGAAATTGCAGCCTCAGCCCCCA-GCCATCTGCCGACCCCCCCAC-CCC--G-CCCTAATGGGCCAGGCGGC\n",
      "|||.|||||||||.|||||||||||.-|||||||||.||..||.||||-|||--|-||||||||||||.|-----\n",
      "TCCAGAAATTGCAACCTCAGCCCCCTGGCCATCTGCTGATGCCACCACCCCCAGGTCCCTAATGGGCCTG-----\n",
      "\n",
      "TCCGGAAATTGCAGCCTCAGCCCCC-AGCCATCTGCCGACCCCCCCAC-CCC--G-CCCTAATGGGCCAGGCGGC\n",
      "|||.|||||||||.|||||||||||-.|||||||||.||..||.||||-|||--|-||||||||||||.|-----\n",
      "TCCAGAAATTGCAACCTCAGCCCCCTGGCCATCTGCTGATGCCACCACCCCCAGGTCCCTAATGGGCCTG-----\n",
      "\n",
      "TCCGGAAATTGCAGCCTCAGCCCCCAG-CCATCTGCCGACCCCCCCA-CCCC--G-CCCTAATGGGCCAGGCGGC\n",
      "|||.|||||||||.|||||||||||.|-||||||||.||..||.|||-||||--|-||||||||||||.|-----\n",
      "TCCAGAAATTGCAACCTCAGCCCCCTGGCCATCTGCTGATGCCACCACCCCCAGGTCCCTAATGGGCCTG-----\n",
      "\n",
      "TCCGGAAATTGCAGCCTCAGCCCCCA-GCCATCTGCCGACCCCCCCA-CCCC--G-CCCTAATGGGCCAGGCGGC\n",
      "|||.|||||||||.|||||||||||.-|||||||||.||..||.|||-||||--|-||||||||||||.|-----\n",
      "TCCAGAAATTGCAACCTCAGCCCCCTGGCCATCTGCTGATGCCACCACCCCCAGGTCCCTAATGGGCCTG-----\n",
      "\n",
      "TCCGGAAATTGCAGCCTCAGCCCCC-AGCCATCTGCCGACCCCCCCA-CCCC--G-CCCTAATGGGCCAGGCGGC\n",
      "|||.|||||||||.|||||||||||-.|||||||||.||..||.|||-||||--|-||||||||||||.|-----\n",
      "TCCAGAAATTGCAACCTCAGCCCCCTGGCCATCTGCTGATGCCACCACCCCCAGGTCCCTAATGGGCCTG-----\n",
      "\n"
     ]
    }
   ],
   "source": [
    "x = list(SeqIO.parse('human.fasta', 'fasta'))[0].seq[2050:2120]\n",
    "y = list(SeqIO.parse('guinea_pig.fasta', 'fasta'))[0].seq[26:96]\n",
    "\n",
    "aligner = Align.PairwiseAligner()\n",
    "aligner.mode = 'global'\n",
    "aligner.mismatch_score = -1\n",
    "aligner.match_score = 2\n",
    "aligner.internal_gap_score = -3\n",
    "for alignment in aligner.align(x, y):\n",
    "    print(alignment)"
   ]
  },
  {
   "cell_type": "code",
   "execution_count": 11,
   "id": "067e8e3f-37fe-41ee-ac9b-f49cc7786986",
   "metadata": {},
   "outputs": [
    {
     "name": "stdout",
     "output_type": "stream",
     "text": [
      "ACCCAGCACCAGGGAAATGGTCCGGAAATTGCAGCCTCAG                                                  \n",
      "                    |||.|||||||||.||||||                                                  \n",
      "                    TCCAGAAATTGCAACCTCAGCCCCCTGGCCATCTGCTGATGCCACCACCCCCAGGTCCCTAATGGGCCTG\n",
      "\n"
     ]
    }
   ],
   "source": [
    "x = list(SeqIO.parse('human.fasta', 'fasta'))[0].seq[2030:2070]\n",
    "y = list(SeqIO.parse('guinea_pig.fasta', 'fasta'))[0].seq[26:96]\n",
    "\n",
    "aligner = Align.PairwiseAligner()\n",
    "aligner.mode = 'local'\n",
    "aligner.mismatch_score = -1\n",
    "aligner.match_score = 2\n",
    "aligner.internal_gap_score = -3\n",
    "for alignment in aligner.align(x, y):\n",
    "    print(alignment)"
   ]
  },
  {
   "cell_type": "markdown",
   "id": "7d6ae08a-e837-4c42-8f08-98f4608cd0e8",
   "metadata": {},
   "source": [
    "Видно, что результат такой же, как и у самописного алгоритма. Ура! Всего-то и нужно было, что смириться со спагетти-кодом в конце, а не мучаться 3 часа."
   ]
  }
 ],
 "metadata": {
  "kernelspec": {
   "display_name": "Python 3 (ipykernel)",
   "language": "python",
   "name": "python3"
  },
  "language_info": {
   "codemirror_mode": {
    "name": "ipython",
    "version": 3
   },
   "file_extension": ".py",
   "mimetype": "text/x-python",
   "name": "python",
   "nbconvert_exporter": "python",
   "pygments_lexer": "ipython3",
   "version": "3.9.19"
  }
 },
 "nbformat": 4,
 "nbformat_minor": 5
}
