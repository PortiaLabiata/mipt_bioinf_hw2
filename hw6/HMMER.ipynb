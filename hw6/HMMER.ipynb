{
 "cells": [
  {
   "cell_type": "markdown",
   "id": "dd6c7a89-cf4b-4877-a94a-6db596ee2020",
   "metadata": {},
   "source": [
    "# Описание домашней работы №6"
   ]
  },
  {
   "cell_type": "markdown",
   "id": "45eab6c7-7507-4a09-86a6-b582d725ac0d",
   "metadata": {},
   "source": [
    "## Загрузка последовательностей геномов"
   ]
  },
  {
   "cell_type": "markdown",
   "id": "d3d413e7-9154-406f-a325-96ca4815472d",
   "metadata": {},
   "source": [
    "Я выбрал геномы человека и ежа обыкновенного, потому что я люблю ежей, а человек просто как-то под руку подвернулся. В качестве мотива я выбрал мотив сайта протеолиза GPCR, потому что решил, что он должен быть у многигих животных и относительно консервативен. Их номера в базе:\n",
    "- Ёж: GCF_950295315.1;\n",
    "- Человек: GCF_000001405.40."
   ]
  },
  {
   "cell_type": "markdown",
   "id": "02c125b6-e636-4080-bbe5-3cfaf4445bb7",
   "metadata": {},
   "source": [
    "В результате поиска с помощью HMMER были получены следующие гены:"
   ]
  },
  {
   "cell_type": "markdown",
   "id": "b5a5b41f-e14d-4d07-b265-1b75daf080d2",
   "metadata": {},
   "source": [
    "### Человек"
   ]
  },
  {
   "cell_type": "code",
   "execution_count": 6,
   "id": "0b96f8db-5080-4215-9ab7-07cb12a1376c",
   "metadata": {},
   "outputs": [
    {
     "name": "stdout",
     "output_type": "stream",
     "text": [
      "# hmmsearch :: search profile(s) against a sequence database\n",
      "# HMMER 3.1b2 (February 2015); http://hmmer.org/\n",
      "# Copyright (C) 2015 Howard Hughes Medical Institute.\n",
      "# Freely distributed under the GNU General Public License (GPLv3).\n",
      "# - - - - - - - - - - - - - - - - - - - - - - - - - - - - - - - - - - - -\n",
      "# query HMM file:                  hmm\n",
      "# target sequence database:        human.faa\n",
      "# - - - - - - - - - - - - - - - - - - - - - - - - - - - - - - - - - - - -\n",
      "\n",
      "Query:       GPS  [M=45]\n",
      "Accession:   PF01825.27\n",
      "Description: GPCR proteolysis site, GPS, motif\n",
      "Scores for complete sequences (score includes all domains):\n",
      "   --- full sequence ---   --- best 1 domain ---    -#dom-\n",
      "    E-value  score  bias    E-value  score  bias    exp  N  Sequence       Description\n",
      "    ------- ------ -----    ------- ------ -----   ---- --  --------       -----------\n",
      "    2.1e-17   66.2   6.8    7.6e-17   64.4   6.8    2.1  1  NP_071442.2     adhesion G protein-coupled receptor L4 precur\n",
      "    6.8e-16   61.3   3.4    6.8e-16   61.3   3.4    2.6  1  NP_001399.1     cadherin EGF LAG seven-pass G-type receptor 2\n",
      "    1.1e-15   60.6   8.9    2.8e-15   59.3   8.9    1.8  1  NP_001374478.1  adhesion G protein-coupled receptor L3 isofor\n",
      "    1.1e-15   60.6   8.9    2.9e-15   59.3   8.9    1.8  1  NP_001309175.1  adhesion G protein-coupled receptor L3 isofor\n",
      "    1.1e-15   60.6   8.9    2.9e-15   59.3   8.9    1.8  1  NP_001374476.1  adhesion G protein-coupled receptor L3 isofor\n"
     ]
    }
   ],
   "source": [
    "with open('./human.hmm.results', 'r') as human:\n",
    "    for i, line in enumerate(human):\n",
    "        if i > 20:\n",
    "            break\n",
    "        print(line, end='')"
   ]
  },
  {
   "cell_type": "markdown",
   "id": "af300e59-3f1d-411d-9229-bf3ff1d58c5b",
   "metadata": {},
   "source": [
    "### Ёж"
   ]
  },
  {
   "cell_type": "code",
   "execution_count": 7,
   "id": "39164152-e354-46e9-8d65-6181d895776e",
   "metadata": {},
   "outputs": [
    {
     "name": "stdout",
     "output_type": "stream",
     "text": [
      "# hmmsearch :: search profile(s) against a sequence database\n",
      "# HMMER 3.1b2 (February 2015); http://hmmer.org/\n",
      "# Copyright (C) 2015 Howard Hughes Medical Institute.\n",
      "# Freely distributed under the GNU General Public License (GPLv3).\n",
      "# - - - - - - - - - - - - - - - - - - - - - - - - - - - - - - - - - - - -\n",
      "# query HMM file:                  hmm\n",
      "# target sequence database:        hedgehog.faa\n",
      "# - - - - - - - - - - - - - - - - - - - - - - - - - - - - - - - - - - - -\n",
      "\n",
      "Query:       GPS  [M=45]\n",
      "Accession:   PF01825.27\n",
      "Description: GPCR proteolysis site, GPS, motif\n",
      "Scores for complete sequences (score includes all domains):\n",
      "   --- full sequence ---   --- best 1 domain ---    -#dom-\n",
      "    E-value  score  bias    E-value  score  bias    exp  N  Sequence       Description\n",
      "    ------- ------ -----    ------- ------ -----   ---- --  --------       -----------\n",
      "    1.7e-17   65.1   6.6    6.9e-17   63.2   6.6    2.2  1  XP_060058211.1  adhesion G protein-coupled receptor L4 isofor\n",
      "    1.7e-17   65.1   6.6    6.9e-17   63.2   6.6    2.2  1  XP_016046811.1  adhesion G protein-coupled receptor L4 isofor\n",
      "    2.6e-16   61.3   3.4    2.6e-16   61.3   3.4    2.4  1  XP_060057939.1  cadherin EGF LAG seven-pass G-type receptor 2\n",
      "    2.6e-16   61.3   3.4    2.6e-16   61.3   3.4    2.4  1  XP_060057938.1  cadherin EGF LAG seven-pass G-type receptor 2\n",
      "    2.6e-16   61.3   3.4    2.6e-16   61.3   3.4    2.4  1  XP_060057937.1  cadherin EGF LAG seven-pass G-type receptor 2\n"
     ]
    }
   ],
   "source": [
    "with open('./hedgehog.hmm.results', 'r') as human:\n",
    "    for i, line in enumerate(human):\n",
    "        if i > 20:\n",
    "            break\n",
    "        print(line, end='')"
   ]
  },
  {
   "cell_type": "markdown",
   "id": "2a6d76c5-2fed-4cfb-a3f1-46d1cb6f89a3",
   "metadata": {},
   "source": [
    "Результаты поиска в целом соответствуют ожиланиям: это различные GPCR. Были выбраны по два гена с наилучшим совпадением (наименьшим E-value), это были:"
   ]
  },
  {
   "cell_type": "code",
   "execution_count": 8,
   "id": "d3ab5ede-4906-409d-ac7f-71954488081a",
   "metadata": {},
   "outputs": [
    {
     "name": "stdout",
     "output_type": "stream",
     "text": [
      "NP_071442.2\n",
      "NP_001399.1\n",
      "XP_060058211.1\n",
      "XP_016046811.1\n"
     ]
    }
   ],
   "source": [
    "with open('./genes.txt', 'r') as genes:\n",
    "    for line in genes:\n",
    "        print(line, end='')"
   ]
  },
  {
   "cell_type": "markdown",
   "id": "a8de9991-9ea3-454e-b219-464f02635b5c",
   "metadata": {},
   "source": [
    "Было проведено множественное выравнивание в программе ClustalO (довольно быстрая и простая), результаты приведены ниже:"
   ]
  },
  {
   "cell_type": "markdown",
   "id": "1e9afea6-d84a-4bf8-b48f-9cdbc5c36826",
   "metadata": {},
   "source": [
    "![img1](2025-04-12-180319_1011x261_scrot.png \"Alignment.png\")"
   ]
  },
  {
   "cell_type": "markdown",
   "id": "c66ba6ca-de21-45a5-8815-d4840e592dc8",
   "metadata": {},
   "source": [
    "Более подробно результат выравнивания приведён в файле `alignment.txt`. Также было построено филогенетическое дерево, результат приведён ниже:"
   ]
  },
  {
   "cell_type": "markdown",
   "id": "94d8d992-4aea-4c43-81f2-fc5e7ff7ba1b",
   "metadata": {},
   "source": [
    "![img2](tree.png \"Tree\")"
   ]
  },
  {
   "cell_type": "markdown",
   "id": "4b99d016-8e23-47ad-9066-ce9fae4edd65",
   "metadata": {},
   "source": [
    "В принципе сказать из него ничего нельзя, потому что генов слишком мало. Но хорошо, что гены ежа в одной кладе, это имеет смысл."
   ]
  }
 ],
 "metadata": {
  "kernelspec": {
   "display_name": "Python 3 (ipykernel)",
   "language": "python",
   "name": "python3"
  },
  "language_info": {
   "codemirror_mode": {
    "name": "ipython",
    "version": 3
   },
   "file_extension": ".py",
   "mimetype": "text/x-python",
   "name": "python",
   "nbconvert_exporter": "python",
   "pygments_lexer": "ipython3",
   "version": "3.12.9"
  }
 },
 "nbformat": 4,
 "nbformat_minor": 5
}
