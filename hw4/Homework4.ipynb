{
 "cells": [
  {
   "cell_type": "markdown",
   "id": "0ac46437-b629-4a59-b39a-439750ea1d7a",
   "metadata": {},
   "source": [
    "## Построение MSA и филогенетического древа"
   ]
  },
  {
   "cell_type": "markdown",
   "id": "7d51d29b-41d0-46c3-a784-be8b7ee13e60",
   "metadata": {},
   "source": [
    "Было построено множественное выравнивание последовательностей гена COX1 нескольких видов:\n",
    " - Neurospora crassa;\n",
    " - Rattus norvegicus;\n",
    " - Homo sapiens;\n",
    " - Mus musculus;\n",
    " - Oryza sativa japonica;\n",
    " - Dictyostellium discoideum.\n",
    "Этот ген, как я понял, используется для баркодинга и довольно консервативен. Использовался алгоритм ClustalO. Полученное дерево в формате Newick приведено ниже."
   ]
  },
  {
   "cell_type": "code",
   "execution_count": 3,
   "id": "cc230460-a3b5-4503-8395-aeed5312b2ce",
   "metadata": {},
   "outputs": [
    {
     "name": "stdout",
     "output_type": "stream",
     "text": [
      "(\n",
      "D. discoideum:0.24572,\n",
      "(\n",
      "N. crassa:0.18668,\n",
      "O. sativa japonica:0.12618)\n",
      ":0.01851,\n",
      "(\n",
      "H. sapiens:0.04797,\n",
      "(\n",
      "M. musculus:0.00948,\n",
      "R. norvegicus:0.00997)\n",
      ":0.03587)\n",
      ":0.11852);\n",
      "        "
     ]
    }
   ],
   "source": [
    "with open('tree.newick') as file:\n",
    "    for row in file:\n",
    "        print(row, end='')"
   ]
  },
  {
   "cell_type": "markdown",
   "id": "41c536ef-f5aa-4185-b057-f98b479e3bdc",
   "metadata": {},
   "source": [
    "Рендер дерева:"
   ]
  },
  {
   "cell_type": "markdown",
   "id": "03fa856d-8104-4835-9898-ed4dc21e529a",
   "metadata": {},
   "source": [
    "![Филогенетическое древо](tree.png)"
   ]
  },
  {
   "cell_type": "markdown",
   "id": "6eee76fd-4f59-4efc-b256-91893fdfc4f6",
   "metadata": {},
   "source": [
    "Результат вполне ожидаемый: млекопитающие в одной кладе, грызуны тоже."
   ]
  }
 ],
 "metadata": {
  "kernelspec": {
   "display_name": "Python 3 (ipykernel)",
   "language": "python",
   "name": "python3"
  },
  "language_info": {
   "codemirror_mode": {
    "name": "ipython",
    "version": 3
   },
   "file_extension": ".py",
   "mimetype": "text/x-python",
   "name": "python",
   "nbconvert_exporter": "python",
   "pygments_lexer": "ipython3",
   "version": "3.12.9"
  }
 },
 "nbformat": 4,
 "nbformat_minor": 5
}
